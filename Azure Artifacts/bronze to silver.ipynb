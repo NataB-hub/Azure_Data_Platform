{
 "cells": [
  {
   "cell_type": "markdown",
   "metadata": {
    "application/vnd.databricks.v1+cell": {
     "cellMetadata": {},
     "inputWidgets": {},
     "nuid": "0ba5e058-cc4d-4cbb-9de8-f43c6501b444",
     "showTitle": false,
     "tableResultSettingsMap": {},
     "title": ""
    }
   },
   "source": [
    "###In this part of transformation we get rid of unnecessary columns."
   ]
  },
  {
   "cell_type": "code",
   "execution_count": 0,
   "metadata": {
    "application/vnd.databricks.v1+cell": {
     "cellMetadata": {},
     "inputWidgets": {},
     "nuid": "53adb0ba-fd24-45b6-8479-73f1130ec92e",
     "showTitle": false,
     "tableResultSettingsMap": {},
     "title": ""
    }
   },
   "outputs": [],
   "source": [
    "columns_to_drop = ['rowguid', 'CarrierTrackingNumber', 'CreditCardApprovalCode', 'Comment']"
   ]
  },
  {
   "cell_type": "code",
   "execution_count": 0,
   "metadata": {
    "application/vnd.databricks.v1+cell": {
     "cellMetadata": {
      "byteLimit": 2048000,
      "rowLimit": 10000
     },
     "inputWidgets": {},
     "nuid": "8acdfc14-513f-4147-848d-070a92742d43",
     "showTitle": false,
     "tableResultSettingsMap": {},
     "title": ""
    }
   },
   "outputs": [],
   "source": [
    "#working with Sales data\n",
    "sales_table_names = []\n",
    "\n",
    "for i in  dbutils.fs.ls('mnt/bronze/Sales/'):\n",
    "  sales_table_names.append(i.name.split('/')[0])\n",
    "\n",
    "for sales_table in sales_table_names:\n",
    "  path = '/mnt/bronze/Sales/' + sales_table + '/' + sales_table + '.parquet'\n",
    "  df = spark.read.format('parquet').load(path)\n",
    "  df_modified = df.drop(*columns_to_drop)\n",
    "  df_modified = df_modified.dropDuplicates()\n",
    "  output_path = '/mnt/silver/Sales/' + sales_table + '/'\n",
    "  df_modified.write.format('delta').mode(\"overwrite\").option(\"mergeSchema\", \"true\").save(output_path)"
   ]
  },
  {
   "cell_type": "code",
   "execution_count": 0,
   "metadata": {
    "application/vnd.databricks.v1+cell": {
     "cellMetadata": {
      "byteLimit": 2048000,
      "rowLimit": 10000
     },
     "inputWidgets": {},
     "nuid": "5fa54a19-3b4d-4eef-a38a-ac030ec383c0",
     "showTitle": false,
     "tableResultSettingsMap": {},
     "title": ""
    }
   },
   "outputs": [],
   "source": [
    "#working with Product data\n",
    "product_table_name = []\n",
    "\n",
    "for i in  dbutils.fs.ls('mnt/bronze/Production/'):\n",
    "  product_table_name.append(i.name.split('/')[0])\n",
    "\n",
    "for product_table in product_table_name:\n",
    "  path = '/mnt/bronze/Production/' + product_table + '/' + product_table + '.parquet'\n",
    "  df = spark.read.format('parquet').load(path)\n",
    "  df_modified = df.drop(*columns_to_drop)\n",
    "  df_modified = df_modified.dropDuplicates()\n",
    "  output_path = '/mnt/silver/Production/' + product_table + '/'\n",
    "  df_modified.write.format('delta').mode(\"overwrite\").option(\"mergeSchema\", \"true\").save(output_path)"
   ]
  }
 ],
 "metadata": {
  "application/vnd.databricks.v1+notebook": {
   "computePreferences": null,
   "dashboards": [],
   "environmentMetadata": {
    "base_environment": "",
    "client": "1"
   },
   "language": "python",
   "notebookMetadata": {
    "pythonIndentUnit": 4
   },
   "notebookName": "bronze to silver",
   "widgets": {}
  },
  "language_info": {
   "name": "python"
  }
 },
 "nbformat": 4,
 "nbformat_minor": 0
}